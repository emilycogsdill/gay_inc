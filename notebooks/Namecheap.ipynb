{
 "cells": [
  {
   "cell_type": "code",
   "execution_count": 22,
   "metadata": {},
   "outputs": [],
   "source": [
    "from namecheap_utils import *\n",
    "\n",
    "#from mysql_utils import *"
   ]
  },
  {
   "cell_type": "code",
   "execution_count": 23,
   "metadata": {},
   "outputs": [
    {
     "ename": "ModuleNotFoundError",
     "evalue": "No module named 'mysql'",
     "output_type": "error",
     "traceback": [
      "\u001b[0;31m---------------------------------------------------------------------------\u001b[0m",
      "\u001b[0;31mModuleNotFoundError\u001b[0m                       Traceback (most recent call last)",
      "\u001b[0;32m<ipython-input-23-4c02e3ae1f20>\u001b[0m in \u001b[0;36m<module>\u001b[0;34m\u001b[0m\n\u001b[0;32m----> 1\u001b[0;31m \u001b[0;32mfrom\u001b[0m \u001b[0mmysql_utils\u001b[0m \u001b[0;32mimport\u001b[0m \u001b[0;34m*\u001b[0m\u001b[0;34m\u001b[0m\u001b[0;34m\u001b[0m\u001b[0m\n\u001b[0m",
      "\u001b[0;32m~/Documents/GitHub/web_adventures/user_registration/mysql_utils.py\u001b[0m in \u001b[0;36m<module>\u001b[0;34m\u001b[0m\n\u001b[1;32m      2\u001b[0m \u001b[0;32mfrom\u001b[0m \u001b[0msqlalchemy\u001b[0m \u001b[0;32mimport\u001b[0m \u001b[0mor_\u001b[0m\u001b[0;34m,\u001b[0m \u001b[0mfunc\u001b[0m\u001b[0;34m,\u001b[0m \u001b[0mcreate_engine\u001b[0m\u001b[0;34m,\u001b[0m \u001b[0mTable\u001b[0m\u001b[0;34m,\u001b[0m \u001b[0mColumn\u001b[0m\u001b[0;34m,\u001b[0m \u001b[0mInteger\u001b[0m\u001b[0;34m,\u001b[0m \u001b[0mString\u001b[0m\u001b[0;34m,\u001b[0m \u001b[0mMetaData\u001b[0m\u001b[0;34m,\u001b[0m \u001b[0mForeignKey\u001b[0m\u001b[0;34m,\u001b[0m \u001b[0minspect\u001b[0m\u001b[0;34m\u001b[0m\u001b[0;34m\u001b[0m\u001b[0m\n\u001b[1;32m      3\u001b[0m \u001b[0;32mfrom\u001b[0m \u001b[0msqlalchemy\u001b[0m\u001b[0;34m.\u001b[0m\u001b[0msql\u001b[0m \u001b[0;32mimport\u001b[0m \u001b[0mtext\u001b[0m\u001b[0;34m\u001b[0m\u001b[0;34m\u001b[0m\u001b[0m\n\u001b[0;32m----> 4\u001b[0;31m \u001b[0;32mimport\u001b[0m \u001b[0mmysql\u001b[0m\u001b[0;34m.\u001b[0m\u001b[0mconnector\u001b[0m \u001b[0;31m#requires mysql-connector-python\u001b[0m\u001b[0;34m\u001b[0m\u001b[0;34m\u001b[0m\u001b[0m\n\u001b[0m\u001b[1;32m      5\u001b[0m \u001b[0;32mfrom\u001b[0m \u001b[0mos\u001b[0m \u001b[0;32mimport\u001b[0m \u001b[0menviron\u001b[0m\u001b[0;34m\u001b[0m\u001b[0;34m\u001b[0m\u001b[0m\n\u001b[1;32m      6\u001b[0m \u001b[0;34m\u001b[0m\u001b[0m\n",
      "\u001b[0;31mModuleNotFoundError\u001b[0m: No module named 'mysql'"
     ]
    }
   ],
   "source": [
    "from mysql_utils import *"
   ]
  },
  {
   "cell_type": "code",
   "execution_count": 24,
   "metadata": {},
   "outputs": [
    {
     "ename": "ModuleNotFoundError",
     "evalue": "No module named 'mysql'",
     "output_type": "error",
     "traceback": [
      "\u001b[0;31m---------------------------------------------------------------------------\u001b[0m",
      "\u001b[0;31mModuleNotFoundError\u001b[0m                       Traceback (most recent call last)",
      "\u001b[0;32m<ipython-input-24-9cd6224ba968>\u001b[0m in \u001b[0;36m<module>\u001b[0;34m\u001b[0m\n\u001b[0;32m----> 1\u001b[0;31m \u001b[0;32mimport\u001b[0m \u001b[0mmysql\u001b[0m\u001b[0;34m.\u001b[0m\u001b[0mconnector\u001b[0m\u001b[0;34m\u001b[0m\u001b[0;34m\u001b[0m\u001b[0m\n\u001b[0m",
      "\u001b[0;31mModuleNotFoundError\u001b[0m: No module named 'mysql'"
     ]
    }
   ],
   "source": [
    "import mysql.connector"
   ]
  },
  {
   "cell_type": "code",
   "execution_count": 12,
   "metadata": {},
   "outputs": [
    {
     "data": {
      "text/plain": [
       "'https://api.namecheap.com/xml.response?ApiUser=weareallgay&ApiKey=b1cdeb87cba543c185bf877b6fd8cfed&UserName=weareallgay&ClientIp=136.49.187.245&Command=namecheap.domains.dns.setHosts&SLD=emilycogsdill&TLD=xyz&HostName1=@&RecordType1=FRAME&Address1=http://is.gay&TTL1=60&HostName2=emilytest&RecordType2=FRAME&Address2=http://www.google.com&TTL2=60&HostName3=emilytest2&RecordType3=FRAME&Address3=http://www.google.com&TTL3=60&HostName4=test2&RecordType4=FRAME&Address4=http://www.emilycogsdill.com&TTL4=60&HostName5=test4&RecordType5=FRAME&Address5=http://www.emilycogsdill.com&TTL5=60&HostName6=emilytest&RecordType6=URL&Address6=http://www.google.com&TTL6=60&HostName7=xxx&RecordType7=URL&Address7=www.x.com&TTL7=60'"
      ]
     },
     "execution_count": 12,
     "metadata": {},
     "output_type": "execute_result"
    }
   ],
   "source": [
    "host='xxx'\n",
    "host_type='URL'\n",
    "address='www.x.com'\n",
    "\n",
    "#getHosts()\n",
    "setHostsURL(host, host_type, address)"
   ]
  },
  {
   "cell_type": "code",
   "execution_count": 22,
   "metadata": {},
   "outputs": [
    {
     "name": "stdout",
     "output_type": "stream",
     "text": [
      "https://api.sandbox.namecheap.com/xml.response?ApiUser=weareallgay&ApiKey=9ed97b730a65471785c4957ee5bbcaf7&UserName=weareallgay&Command=namecheap.domains.check&DomainList=is.gay&ClientIp=136.49.187.245\n"
     ]
    }
   ],
   "source": [
    "url=f\"https://{service_url}/xml.response?ApiUser={api_username}&ApiKey={api_key}&UserName={namecheap_username}&Command={command}&DomainList=is.gay&ClientIp={client_ip_address}\"\n",
    "print(url)"
   ]
  },
  {
   "cell_type": "code",
   "execution_count": 23,
   "metadata": {},
   "outputs": [
    {
     "name": "stdout",
     "output_type": "stream",
     "text": [
      "https://api.namecheap.com/xml.response?ApiUser=weareallgay&ApiKey=b1cdeb87cba543c185bf877b6fd8cfed&UserName=weareallgay&Command=namecheap.domains.check&DomainList=is.gay&ClientIp=136.49.187.245\n"
     ]
    }
   ],
   "source": [
    "url=f\"https://{service_url_prod}/xml.response?ApiUser={api_username}&ApiKey={api_key_prod}&UserName={namecheap_username}&Command={command}&DomainList=is.gay&ClientIp={client_ip_address}\"\n",
    "print(url)"
   ]
  },
  {
   "cell_type": "code",
   "execution_count": 26,
   "metadata": {},
   "outputs": [],
   "source": [
    "service_url_sandbox='api.sandbox.namecheap.com'\n",
    "service_url_prod='api.namecheap.com'\n",
    "api_username='weareallgay'\n",
    "api_key_prod='b1cdeb87cba543c185bf877b6fd8cfed'\n",
    "api_key_sandbox='9ed97b730a65471785c4957ee5bbcaf7'\n",
    "namecheap_username='weareallgay'\n",
    "client_ip_address='136.49.187.245'\n",
    "\n",
    "\n",
    "command='namecheap.domains.dns.setHosts'\n",
    "SLD='is'\n",
    "TLD='gay'\n",
    "HostName='test'\n",
    "RecordType='URL' #also try FRAME\n",
    "Address='http://www.namecheap.com'\n",
    "TTL=100\n",
    "\n",
    "url=f\"https://{service_url_prod}/xml.response?ApiUser={api_username}&ApiKey={api_key_prod}&UserName={namecheap_username}&Command={command}&SLD={SLD}&TLD={TLD}&HostName1={HostName}&RecordType1={RecordType}&Address1={Address}&TTL1={TTL}\""
   ]
  },
  {
   "cell_type": "code",
   "execution_count": 159,
   "metadata": {},
   "outputs": [],
   "source": [
    "url='https://api.namecheap.com/xml.response?ApiUser=weareallgay&ApiKey=b1cdeb87cba543c185bf877b6fd8cfed&UserName=weareallgay&ClientIp=136.49.187.245&Command=namecheap.domains.dns.getHosts&SLD=is&TLD=gay'\n",
    "response = requests.get(url)\n",
    "tree = ElementTree(fromstring(response.content))\n",
    "root = tree.getroot().find('{http://api.namecheap.com/xml.response}CommandResponse')"
   ]
  },
  {
   "cell_type": "code",
   "execution_count": 160,
   "metadata": {},
   "outputs": [],
   "source": [
    "url='https://api.namecheap.com/xml.response?ApiUser=weareallgay&ApiKey=b1cdeb87cba543c185bf877b6fd8cfed&UserName=weareallgay&ClientIp=136.49.187.245&Command=namecheap.domains.dns.getHosts&SLD=is&TLD=gay'\n",
    "response = requests.get(url)\n",
    "tree = ElementTree(fromstring(response.content))\n",
    "root = tree.getroot().find('{http://api.namecheap.com/xml.response}CommandResponse')\n",
    "\n",
    "#parse Namecheap API XML response\n",
    "hosts=[]\n",
    "result={}\n",
    "for child in root.iter('{http://api.namecheap.com/xml.response}host'):\n",
    "    host_name=child.attrib['Name']\n",
    "    host_type=child.attrib['Type']\n",
    "    host_address=child.attrib['Address']\n",
    "    host_ttl=child.attrib['TTL']\n",
    "    result={'Name':host_name\n",
    "           ,'Type':host_type\n",
    "           ,'Address':host_address\n",
    "           ,'TTL':host_ttl}\n",
    "    hosts.append(result)\n",
    "    "
   ]
  },
  {
   "cell_type": "code",
   "execution_count": 161,
   "metadata": {},
   "outputs": [
    {
     "data": {
      "text/plain": [
       "[{'Name': '@', 'Type': 'A', 'Address': '162.0.235.5', 'TTL': '60'},\n",
       " {'Name': 'divide', 'Type': 'A', 'Address': '185.243.56.15', 'TTL': '300'},\n",
       " {'Name': 'eli', 'Type': 'A', 'Address': '185.243.56.15', 'TTL': '300'},\n",
       " {'Name': 'shirt', 'Type': 'A', 'Address': '185.243.56.15', 'TTL': '300'},\n",
       " {'Name': 'test2',\n",
       "  'Type': 'FRAME',\n",
       "  'Address': 'http://www.emilycogsdill.com',\n",
       "  'TTL': '200'},\n",
       " {'Name': 'test',\n",
       "  'Type': 'URL',\n",
       "  'Address': 'http://www.namecheap.com',\n",
       "  'TTL': '100'}]"
      ]
     },
     "execution_count": 161,
     "metadata": {},
     "output_type": "execute_result"
    }
   ],
   "source": [
    "hosts"
   ]
  },
  {
   "cell_type": "code",
   "execution_count": 31,
   "metadata": {},
   "outputs": [
    {
     "name": "stdout",
     "output_type": "stream",
     "text": [
      "https://api.namecheap.com/xml.response?ApiUser=weareallgay&ApiKey=b1cdeb87cba543c185bf877b6fd8cfed&UserName=weareallgay&ClientIp=136.49.187.245&Command=namecheap.domains.dns.getHosts&SLD=is&TLD=gay\n"
     ]
    }
   ],
   "source": [
    "command='namecheap.domains.dns.getHosts'\n",
    "url_base=f\"https://{service_url_prod}/xml.response?ApiUser={api_username}&ApiKey={api_key_prod}&UserName={namecheap_username}&ClientIp={client_ip_address}&\"\n",
    "url_command=f\"Command={command}&SLD={SLD}&TLD={TLD}\"\n",
    "\n",
    "url=url_base+url_command\n",
    "\n",
    "print(url)"
   ]
  },
  {
   "cell_type": "code",
   "execution_count": 162,
   "metadata": {},
   "outputs": [],
   "source": [
    "import requests\n",
    "from xml.etree.ElementTree import fromstring, ElementTree\n",
    "\n",
    "def getHosts():\n",
    "    \n",
    "    url='https://api.namecheap.com/xml.response?ApiUser=weareallgay&ApiKey=b1cdeb87cba543c185bf877b6fd8cfed&UserName=weareallgay&ClientIp=136.49.187.245&Command=namecheap.domains.dns.getHosts&SLD=is&TLD=gay'\n",
    "    response = requests.get(url)\n",
    "    tree = ElementTree(fromstring(response.content))\n",
    "    root = tree.getroot().find('{http://api.namecheap.com/xml.response}CommandResponse')\n",
    "\n",
    "    #parse Namecheap API XML response\n",
    "    hosts=[]\n",
    "    result={}\n",
    "    for child in root.iter('{http://api.namecheap.com/xml.response}host'):\n",
    "        host_name=child.attrib['Name']\n",
    "        host_type=child.attrib['Type']\n",
    "        host_address=child.attrib['Address']\n",
    "        host_ttl=child.attrib['TTL']\n",
    "        result={'Name':host_name\n",
    "               ,'Type':host_type\n",
    "               ,'Address':host_address\n",
    "               ,'TTL':host_ttl}\n",
    "        hosts.append(result)\n",
    "        \n",
    "    return hosts"
   ]
  },
  {
   "cell_type": "code",
   "execution_count": 155,
   "metadata": {},
   "outputs": [],
   "source": [
    "hosts=getHosts()\n",
    "hosts"
   ]
  },
  {
   "cell_type": "code",
   "execution_count": null,
   "metadata": {},
   "outputs": [],
   "source": [
    "service_url_sandbox='api.sandbox.namecheap.com'\n",
    "service_url_prod='api.namecheap.com'\n",
    "api_username='weareallgay'\n",
    "api_key_prod='b1cdeb87cba543c185bf877b6fd8cfed'\n",
    "api_key_sandbox='9ed97b730a65471785c4957ee5bbcaf7'\n",
    "namecheap_username='weareallgay'\n",
    "client_ip_address='136.49.187.245'\n",
    "\n",
    "\n",
    "command='namecheap.domains.dns.setHosts'\n",
    "SLD='is'\n",
    "TLD='gay'\n",
    "HostName='test'\n",
    "RecordType='URL' #also try FRAME\n",
    "Address='http://www.namecheap.com'\n",
    "TTL=100\n",
    "\n",
    "url=f\"https://{service_url_prod}/xml.response?ApiUser={api_username}&ApiKey={api_key_prod}&UserName={namecheap_username}&Command={command}&SLD={SLD}&TLD={TLD}&HostName1={HostName}&RecordType1={RecordType}&Address1={Address}&TTL1={TTL}\""
   ]
  },
  {
   "cell_type": "code",
   "execution_count": 165,
   "metadata": {},
   "outputs": [],
   "source": [
    "new_hosts_list=[]\n",
    "\n",
    "def addHostToList(new_hosts_list,host_name,host_type,host_address):\n",
    "    result={'Name':host_name\n",
    "           ,'Type':host_type\n",
    "           ,'Address':host_address\n",
    "           ,'TTL':60}\n",
    "    new_hosts_list.append(result)"
   ]
  },
  {
   "cell_type": "code",
   "execution_count": 166,
   "metadata": {},
   "outputs": [],
   "source": [
    "\n",
    "host_name='test2'\n",
    "host_type='FRAME'\n",
    "host_address='www.emilycogsdill.com'\n",
    "\n",
    "addHost(new_hosts_list,host_name,host_type,host_address)"
   ]
  },
  {
   "cell_type": "code",
   "execution_count": 168,
   "metadata": {},
   "outputs": [
    {
     "data": {
      "text/plain": [
       "[{'Name': 'test2',\n",
       "  'Type': 'FRAME',\n",
       "  'Address': 'www.emilycogsdill.com',\n",
       "  'TTL': 60},\n",
       " {'Name': 'test2',\n",
       "  'Type': 'FRAME',\n",
       "  'Address': 'www.emilycogsdill.com',\n",
       "  'TTL': 60},\n",
       " {'Name': 'test2',\n",
       "  'Type': 'FRAME',\n",
       "  'Address': 'www.emilycogsdill.com',\n",
       "  'TTL': 60}]"
      ]
     },
     "execution_count": 168,
     "metadata": {},
     "output_type": "execute_result"
    }
   ],
   "source": [
    "addHost(new_hosts_list,host_name,host_type,host_address)\n",
    "addHost(new_hosts_list,host_name,host_type,host_address)\n",
    "new_hosts_list"
   ]
  },
  {
   "cell_type": "code",
   "execution_count": 128,
   "metadata": {},
   "outputs": [],
   "source": [
    "hosts=getHosts()"
   ]
  },
  {
   "cell_type": "code",
   "execution_count": 129,
   "metadata": {},
   "outputs": [
    {
     "data": {
      "text/plain": [
       "[{'Name': 'divide', 'Type': 'A', 'Address': '185.243.56.15', 'TTL': '300'},\n",
       " {'Name': 'eli', 'Type': 'A', 'Address': '185.243.56.15', 'TTL': '300'},\n",
       " {'Name': 'shirt', 'Type': 'A', 'Address': '185.243.56.15', 'TTL': '300'},\n",
       " {'Name': 'test',\n",
       "  'Type': 'URL',\n",
       "  'Address': 'http://www.namecheap.com',\n",
       "  'TTL': '100'}]"
      ]
     },
     "execution_count": 129,
     "metadata": {},
     "output_type": "execute_result"
    }
   ],
   "source": [
    "hosts"
   ]
  },
  {
   "cell_type": "code",
   "execution_count": 130,
   "metadata": {},
   "outputs": [],
   "source": [
    "for new_host in hosts_to_add:\n",
    "    hosts.append(new_host)"
   ]
  },
  {
   "cell_type": "code",
   "execution_count": 153,
   "metadata": {},
   "outputs": [],
   "source": [
    "def setHostsURL(hosts):\n",
    "\n",
    "    service_url_prod='api.namecheap.com'\n",
    "    api_username='weareallgay'\n",
    "    api_key_prod='b1cdeb87cba543c185bf877b6fd8cfed'\n",
    "    namecheap_username='weareallgay'\n",
    "    client_ip_address='136.49.187.245'\n",
    "    command='namecheap.domains.dns.setHosts'\n",
    "    \n",
    "    #SLD='is'\n",
    "    #TLD='gay'\n",
    "    SLD='emilycogsdill'\n",
    "    TLD='xyz'\n",
    "\n",
    "    #construct a URL from this dict\n",
    "    commands=[]\n",
    "    i=1\n",
    "    for elem in hosts:\n",
    "        HostNameParam='HostName'+str(i)\n",
    "        RecordTypeParam='RecordType'+str(i)\n",
    "        AddressParam='Address'+str(i)\n",
    "        TTLParam='TTL'+str(i)\n",
    "        i+=1\n",
    "        \n",
    "        HostName=elem['Name']\n",
    "        RecordType=elem['Type']\n",
    "        Address=elem['Address']\n",
    "        #TTL=elem['TTL']\n",
    "        TTL=60\n",
    "        \n",
    "        command_string=f\"&{HostNameParam}={HostName}&{RecordTypeParam}={RecordType}&{AddressParam}={Address}&{TTLParam}={TTL}\"\n",
    "        commands.append(command_string)\n",
    "        \n",
    "    command_parameters=''.join(commands)\n",
    "    \n",
    "    url_base=f\"https://{service_url_prod}/xml.response?ApiUser={api_username}&ApiKey={api_key_prod}&UserName={namecheap_username}&ClientIp={client_ip_address}&\"\n",
    "    url_command=f\"Command={command}&SLD={SLD}&TLD={TLD}\"\n",
    "    \n",
    "    url=url_base + url_command + command_parameters\n",
    "    \n",
    "    return url"
   ]
  },
  {
   "cell_type": "code",
   "execution_count": 150,
   "metadata": {},
   "outputs": [
    {
     "data": {
      "text/plain": [
       "[{'Name': 'divide', 'Type': 'A', 'Address': '185.243.56.15', 'TTL': '300'},\n",
       " {'Name': 'eli', 'Type': 'A', 'Address': '185.243.56.15', 'TTL': '300'},\n",
       " {'Name': 'shirt', 'Type': 'A', 'Address': '185.243.56.15', 'TTL': '300'},\n",
       " {'Name': 'test',\n",
       "  'Type': 'URL',\n",
       "  'Address': 'http://www.namecheap.com',\n",
       "  'TTL': '100'},\n",
       " {'Name': 'test2',\n",
       "  'Type': 'FRAME',\n",
       "  'Address': 'www.emilycogsdill.com',\n",
       "  'TTL': '200'}]"
      ]
     },
     "execution_count": 150,
     "metadata": {},
     "output_type": "execute_result"
    }
   ],
   "source": [
    "hosts"
   ]
  },
  {
   "cell_type": "code",
   "execution_count": 154,
   "metadata": {},
   "outputs": [
    {
     "data": {
      "text/plain": [
       "'https://api.namecheap.com/xml.response?ApiUser=weareallgay&ApiKey=b1cdeb87cba543c185bf877b6fd8cfed&UserName=weareallgay&ClientIp=136.49.187.245&Command=namecheap.domains.dns.setHosts&SLD=emilycogsdill&TLD=xyz&HostName1=divide&RecordType1=A&Address1=185.243.56.15&TTL1=60&HostName2=eli&RecordType2=A&Address2=185.243.56.15&TTL2=60&HostName3=shirt&RecordType3=A&Address3=185.243.56.15&TTL3=60&HostName4=test&RecordType4=URL&Address4=http://www.namecheap.com&TTL4=60&HostName5=test2&RecordType5=FRAME&Address5=www.emilycogsdill.com&TTL5=60'"
      ]
     },
     "execution_count": 154,
     "metadata": {},
     "output_type": "execute_result"
    }
   ],
   "source": [
    "setHostsURL(hosts)"
   ]
  },
  {
   "cell_type": "code",
   "execution_count": null,
   "metadata": {},
   "outputs": [],
   "source": [
    "#TODO: use this output to pass into setHosts() command so that we can add new hosts while retaining old onesaa"
   ]
  },
  {
   "cell_type": "code",
   "execution_count": 18,
   "metadata": {},
   "outputs": [
    {
     "ename": "MissingSchema",
     "evalue": "Invalid URL 'www.com': No schema supplied. Perhaps you meant http://www.com?",
     "output_type": "error",
     "traceback": [
      "\u001b[0;31m---------------------------------------------------------------------------\u001b[0m",
      "\u001b[0;31mMissingSchema\u001b[0m                             Traceback (most recent call last)",
      "\u001b[0;32m<ipython-input-18-1e0b33450003>\u001b[0m in \u001b[0;36m<module>\u001b[0;34m\u001b[0m\n\u001b[1;32m      3\u001b[0m \u001b[0murl\u001b[0m \u001b[0;34m=\u001b[0m \u001b[0;34m'https://api.namecheap.com/xml.response?ApiUser=weareallgay&ApiKey=b1cdeb87cba543c185bf877b6fd8cfed&UserName=weareallgay&ClientIp=136.49.187.245&Command=namecheap.domains.dns.setHosts&SLD=emilycogsdill&TLD=xyz&HostName1=@&RecordType1=FRAME&Address1=http://is.gay&TTL1=60&HostName2=emilytest&RecordType2=FRAME&Address2=http://www.google.com&TTL2=60&HostName3=emilytest2&RecordType3=FRAME&Address3=http://www.google.com&TTL3=60&HostName4=test2&RecordType4=FRAME&Address4=http://www.emilycogsdill.com&TTL4=60&HostName5=test4&RecordType5=FRAME&Address5=http://www.emilycogsdill.com&TTL5=60&HostName6=emilytest&RecordType6=URL&Address6=http://www.google.com&TTL6=60&HostName7=eeee&RecordType7=URL&Address7=www.e.com&TTL7=60'\u001b[0m\u001b[0;34m\u001b[0m\u001b[0;34m\u001b[0m\u001b[0m\n\u001b[1;32m      4\u001b[0m \u001b[0;34m\u001b[0m\u001b[0m\n\u001b[0;32m----> 5\u001b[0;31m \u001b[0mx\u001b[0m \u001b[0;34m=\u001b[0m \u001b[0mrequests\u001b[0m\u001b[0;34m.\u001b[0m\u001b[0mpost\u001b[0m\u001b[0;34m(\u001b[0m\u001b[0;34m'www.com'\u001b[0m\u001b[0;34m)\u001b[0m\u001b[0;34m\u001b[0m\u001b[0;34m\u001b[0m\u001b[0m\n\u001b[0m",
      "\u001b[0;32m/usr/local/lib/python3.8/site-packages/requests/api.py\u001b[0m in \u001b[0;36mpost\u001b[0;34m(url, data, json, **kwargs)\u001b[0m\n\u001b[1;32m    117\u001b[0m     \"\"\"\n\u001b[1;32m    118\u001b[0m \u001b[0;34m\u001b[0m\u001b[0m\n\u001b[0;32m--> 119\u001b[0;31m     \u001b[0;32mreturn\u001b[0m \u001b[0mrequest\u001b[0m\u001b[0;34m(\u001b[0m\u001b[0;34m'post'\u001b[0m\u001b[0;34m,\u001b[0m \u001b[0murl\u001b[0m\u001b[0;34m,\u001b[0m \u001b[0mdata\u001b[0m\u001b[0;34m=\u001b[0m\u001b[0mdata\u001b[0m\u001b[0;34m,\u001b[0m \u001b[0mjson\u001b[0m\u001b[0;34m=\u001b[0m\u001b[0mjson\u001b[0m\u001b[0;34m,\u001b[0m \u001b[0;34m**\u001b[0m\u001b[0mkwargs\u001b[0m\u001b[0;34m)\u001b[0m\u001b[0;34m\u001b[0m\u001b[0;34m\u001b[0m\u001b[0m\n\u001b[0m\u001b[1;32m    120\u001b[0m \u001b[0;34m\u001b[0m\u001b[0m\n\u001b[1;32m    121\u001b[0m \u001b[0;34m\u001b[0m\u001b[0m\n",
      "\u001b[0;32m/usr/local/lib/python3.8/site-packages/requests/api.py\u001b[0m in \u001b[0;36mrequest\u001b[0;34m(method, url, **kwargs)\u001b[0m\n\u001b[1;32m     59\u001b[0m     \u001b[0;31m# cases, and look like a memory leak in others.\u001b[0m\u001b[0;34m\u001b[0m\u001b[0;34m\u001b[0m\u001b[0;34m\u001b[0m\u001b[0m\n\u001b[1;32m     60\u001b[0m     \u001b[0;32mwith\u001b[0m \u001b[0msessions\u001b[0m\u001b[0;34m.\u001b[0m\u001b[0mSession\u001b[0m\u001b[0;34m(\u001b[0m\u001b[0;34m)\u001b[0m \u001b[0;32mas\u001b[0m \u001b[0msession\u001b[0m\u001b[0;34m:\u001b[0m\u001b[0;34m\u001b[0m\u001b[0;34m\u001b[0m\u001b[0m\n\u001b[0;32m---> 61\u001b[0;31m         \u001b[0;32mreturn\u001b[0m \u001b[0msession\u001b[0m\u001b[0;34m.\u001b[0m\u001b[0mrequest\u001b[0m\u001b[0;34m(\u001b[0m\u001b[0mmethod\u001b[0m\u001b[0;34m=\u001b[0m\u001b[0mmethod\u001b[0m\u001b[0;34m,\u001b[0m \u001b[0murl\u001b[0m\u001b[0;34m=\u001b[0m\u001b[0murl\u001b[0m\u001b[0;34m,\u001b[0m \u001b[0;34m**\u001b[0m\u001b[0mkwargs\u001b[0m\u001b[0;34m)\u001b[0m\u001b[0;34m\u001b[0m\u001b[0;34m\u001b[0m\u001b[0m\n\u001b[0m\u001b[1;32m     62\u001b[0m \u001b[0;34m\u001b[0m\u001b[0m\n\u001b[1;32m     63\u001b[0m \u001b[0;34m\u001b[0m\u001b[0m\n",
      "\u001b[0;32m/usr/local/lib/python3.8/site-packages/requests/sessions.py\u001b[0m in \u001b[0;36mrequest\u001b[0;34m(self, method, url, params, data, headers, cookies, files, auth, timeout, allow_redirects, proxies, hooks, stream, verify, cert, json)\u001b[0m\n\u001b[1;32m    514\u001b[0m             \u001b[0mhooks\u001b[0m\u001b[0;34m=\u001b[0m\u001b[0mhooks\u001b[0m\u001b[0;34m,\u001b[0m\u001b[0;34m\u001b[0m\u001b[0;34m\u001b[0m\u001b[0m\n\u001b[1;32m    515\u001b[0m         )\n\u001b[0;32m--> 516\u001b[0;31m         \u001b[0mprep\u001b[0m \u001b[0;34m=\u001b[0m \u001b[0mself\u001b[0m\u001b[0;34m.\u001b[0m\u001b[0mprepare_request\u001b[0m\u001b[0;34m(\u001b[0m\u001b[0mreq\u001b[0m\u001b[0;34m)\u001b[0m\u001b[0;34m\u001b[0m\u001b[0;34m\u001b[0m\u001b[0m\n\u001b[0m\u001b[1;32m    517\u001b[0m \u001b[0;34m\u001b[0m\u001b[0m\n\u001b[1;32m    518\u001b[0m         \u001b[0mproxies\u001b[0m \u001b[0;34m=\u001b[0m \u001b[0mproxies\u001b[0m \u001b[0;32mor\u001b[0m \u001b[0;34m{\u001b[0m\u001b[0;34m}\u001b[0m\u001b[0;34m\u001b[0m\u001b[0;34m\u001b[0m\u001b[0m\n",
      "\u001b[0;32m/usr/local/lib/python3.8/site-packages/requests/sessions.py\u001b[0m in \u001b[0;36mprepare_request\u001b[0;34m(self, request)\u001b[0m\n\u001b[1;32m    447\u001b[0m \u001b[0;34m\u001b[0m\u001b[0m\n\u001b[1;32m    448\u001b[0m         \u001b[0mp\u001b[0m \u001b[0;34m=\u001b[0m \u001b[0mPreparedRequest\u001b[0m\u001b[0;34m(\u001b[0m\u001b[0;34m)\u001b[0m\u001b[0;34m\u001b[0m\u001b[0;34m\u001b[0m\u001b[0m\n\u001b[0;32m--> 449\u001b[0;31m         p.prepare(\n\u001b[0m\u001b[1;32m    450\u001b[0m             \u001b[0mmethod\u001b[0m\u001b[0;34m=\u001b[0m\u001b[0mrequest\u001b[0m\u001b[0;34m.\u001b[0m\u001b[0mmethod\u001b[0m\u001b[0;34m.\u001b[0m\u001b[0mupper\u001b[0m\u001b[0;34m(\u001b[0m\u001b[0;34m)\u001b[0m\u001b[0;34m,\u001b[0m\u001b[0;34m\u001b[0m\u001b[0;34m\u001b[0m\u001b[0m\n\u001b[1;32m    451\u001b[0m             \u001b[0murl\u001b[0m\u001b[0;34m=\u001b[0m\u001b[0mrequest\u001b[0m\u001b[0;34m.\u001b[0m\u001b[0murl\u001b[0m\u001b[0;34m,\u001b[0m\u001b[0;34m\u001b[0m\u001b[0;34m\u001b[0m\u001b[0m\n",
      "\u001b[0;32m/usr/local/lib/python3.8/site-packages/requests/models.py\u001b[0m in \u001b[0;36mprepare\u001b[0;34m(self, method, url, headers, files, data, params, auth, cookies, hooks, json)\u001b[0m\n\u001b[1;32m    312\u001b[0m \u001b[0;34m\u001b[0m\u001b[0m\n\u001b[1;32m    313\u001b[0m         \u001b[0mself\u001b[0m\u001b[0;34m.\u001b[0m\u001b[0mprepare_method\u001b[0m\u001b[0;34m(\u001b[0m\u001b[0mmethod\u001b[0m\u001b[0;34m)\u001b[0m\u001b[0;34m\u001b[0m\u001b[0;34m\u001b[0m\u001b[0m\n\u001b[0;32m--> 314\u001b[0;31m         \u001b[0mself\u001b[0m\u001b[0;34m.\u001b[0m\u001b[0mprepare_url\u001b[0m\u001b[0;34m(\u001b[0m\u001b[0murl\u001b[0m\u001b[0;34m,\u001b[0m \u001b[0mparams\u001b[0m\u001b[0;34m)\u001b[0m\u001b[0;34m\u001b[0m\u001b[0;34m\u001b[0m\u001b[0m\n\u001b[0m\u001b[1;32m    315\u001b[0m         \u001b[0mself\u001b[0m\u001b[0;34m.\u001b[0m\u001b[0mprepare_headers\u001b[0m\u001b[0;34m(\u001b[0m\u001b[0mheaders\u001b[0m\u001b[0;34m)\u001b[0m\u001b[0;34m\u001b[0m\u001b[0;34m\u001b[0m\u001b[0m\n\u001b[1;32m    316\u001b[0m         \u001b[0mself\u001b[0m\u001b[0;34m.\u001b[0m\u001b[0mprepare_cookies\u001b[0m\u001b[0;34m(\u001b[0m\u001b[0mcookies\u001b[0m\u001b[0;34m)\u001b[0m\u001b[0;34m\u001b[0m\u001b[0;34m\u001b[0m\u001b[0m\n",
      "\u001b[0;32m/usr/local/lib/python3.8/site-packages/requests/models.py\u001b[0m in \u001b[0;36mprepare_url\u001b[0;34m(self, url, params)\u001b[0m\n\u001b[1;32m    386\u001b[0m             \u001b[0merror\u001b[0m \u001b[0;34m=\u001b[0m \u001b[0merror\u001b[0m\u001b[0;34m.\u001b[0m\u001b[0mformat\u001b[0m\u001b[0;34m(\u001b[0m\u001b[0mto_native_string\u001b[0m\u001b[0;34m(\u001b[0m\u001b[0murl\u001b[0m\u001b[0;34m,\u001b[0m \u001b[0;34m'utf8'\u001b[0m\u001b[0;34m)\u001b[0m\u001b[0;34m)\u001b[0m\u001b[0;34m\u001b[0m\u001b[0;34m\u001b[0m\u001b[0m\n\u001b[1;32m    387\u001b[0m \u001b[0;34m\u001b[0m\u001b[0m\n\u001b[0;32m--> 388\u001b[0;31m             \u001b[0;32mraise\u001b[0m \u001b[0mMissingSchema\u001b[0m\u001b[0;34m(\u001b[0m\u001b[0merror\u001b[0m\u001b[0;34m)\u001b[0m\u001b[0;34m\u001b[0m\u001b[0;34m\u001b[0m\u001b[0m\n\u001b[0m\u001b[1;32m    389\u001b[0m \u001b[0;34m\u001b[0m\u001b[0m\n\u001b[1;32m    390\u001b[0m         \u001b[0;32mif\u001b[0m \u001b[0;32mnot\u001b[0m \u001b[0mhost\u001b[0m\u001b[0;34m:\u001b[0m\u001b[0;34m\u001b[0m\u001b[0;34m\u001b[0m\u001b[0m\n",
      "\u001b[0;31mMissingSchema\u001b[0m: Invalid URL 'www.com': No schema supplied. Perhaps you meant http://www.com?"
     ]
    }
   ],
   "source": [
    "import requests\n",
    "\n",
    "url = 'https://api.namecheap.com/xml.response?ApiUser=weareallgay&ApiKey=b1cdeb87cba543c185bf877b6fd8cfed&UserName=weareallgay&ClientIp=136.49.187.245&Command=namecheap.domains.dns.setHosts&SLD=emilycogsdill&TLD=xyz&HostName1=@&RecordType1=FRAME&Address1=http://is.gay&TTL1=60&HostName2=emilytest&RecordType2=FRAME&Address2=http://www.google.com&TTL2=60&HostName3=emilytest2&RecordType3=FRAME&Address3=http://www.google.com&TTL3=60&HostName4=test2&RecordType4=FRAME&Address4=http://www.emilycogsdill.com&TTL4=60&HostName5=test4&RecordType5=FRAME&Address5=http://www.emilycogsdill.com&TTL5=60&HostName6=emilytest&RecordType6=URL&Address6=http://www.google.com&TTL6=60&HostName7=eeee&RecordType7=URL&Address7=www.e.com&TTL7=60'\n",
    "\n",
    "x = requests.post('www.com')"
   ]
  },
  {
   "cell_type": "code",
   "execution_count": 16,
   "metadata": {},
   "outputs": [
    {
     "data": {
      "text/plain": [
       "<Response [200]>"
      ]
     },
     "execution_count": 16,
     "metadata": {},
     "output_type": "execute_result"
    }
   ],
   "source": [
    "x"
   ]
  },
  {
   "cell_type": "code",
   "execution_count": 19,
   "metadata": {},
   "outputs": [
    {
     "name": "stdout",
     "output_type": "stream",
     "text": [
      "OK!\n"
     ]
    }
   ],
   "source": [
    "if x.status_code == 200:\n",
    "    print ('OK!')\n",
    "else:\n",
    "    print ('Boo!')"
   ]
  },
  {
   "cell_type": "code",
   "execution_count": null,
   "metadata": {},
   "outputs": [],
   "source": []
  }
 ],
 "metadata": {
  "kernelspec": {
   "display_name": "Python 3",
   "language": "python",
   "name": "python3"
  },
  "language_info": {
   "codemirror_mode": {
    "name": "ipython",
    "version": 3
   },
   "file_extension": ".py",
   "mimetype": "text/x-python",
   "name": "python",
   "nbconvert_exporter": "python",
   "pygments_lexer": "ipython3",
   "version": "3.8.6"
  }
 },
 "nbformat": 4,
 "nbformat_minor": 4
}
