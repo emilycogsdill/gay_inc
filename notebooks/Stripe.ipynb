{
 "cells": [
  {
   "cell_type": "code",
   "execution_count": 1,
   "metadata": {},
   "outputs": [],
   "source": [
    "# get the data to add to the database\n",
    "import stripe\n",
    "from os import environ\n",
    "import json\n",
    "from datetime import datetime\n",
    "import pytz\n",
    "# authentication\n",
    "api_secret_prod = environ['STRIPE_SECRET_KEY']\n",
    "\n",
    "stripe.api_key = api_secret_prod"
   ]
  },
  {
   "cell_type": "code",
   "execution_count": 35,
   "metadata": {},
   "outputs": [],
   "source": [
    "events = stripe.Event.list()"
   ]
  },
  {
   "cell_type": "code",
   "execution_count": null,
   "metadata": {},
   "outputs": [],
   "source": [
    "events.auto_paging_iter()"
   ]
  },
  {
   "cell_type": "code",
   "execution_count": 82,
   "metadata": {},
   "outputs": [],
   "source": [
    "def tryExcept(field_name):\n",
    "    #--CUSTOMER ID & AMOUNTS----------\n",
    "    try:\n",
    "        value = event['data']['object'][field_name]\n",
    "    except KeyError:\n",
    "        value = None\n",
    "    \n",
    "    return value"
   ]
  },
  {
   "cell_type": "code",
   "execution_count": 83,
   "metadata": {},
   "outputs": [],
   "source": [
    "def tryExceptAllFields(target_dict, field_name_list):\n",
    "    field_values = {}\n",
    "    for name in field_name_list:\n",
    "        target_dict[name] = tryExcept(name)\n",
    "    return target_dict"
   ]
  },
  {
   "cell_type": "code",
   "execution_count": 76,
   "metadata": {},
   "outputs": [
    {
     "name": "stdout",
     "output_type": "stream",
     "text": [
      "customer\n",
      "amount\n"
     ]
    }
   ],
   "source": [
    "event_data={}\n",
    "field_name_list=['customer','amount']\n",
    "field_values = tryExceptAllFields(field_name_list)"
   ]
  },
  {
   "cell_type": "code",
   "execution_count": 77,
   "metadata": {},
   "outputs": [
    {
     "data": {
      "text/plain": [
       "{'customer': None, 'amount': None}"
      ]
     },
     "execution_count": 77,
     "metadata": {},
     "output_type": "execute_result"
    }
   ],
   "source": [
    "field_values"
   ]
  },
  {
   "cell_type": "code",
   "execution_count": 116,
   "metadata": {},
   "outputs": [],
   "source": [
    "def getStripeEvents():\n",
    "    events_list = []\n",
    "    i=0\n",
    "    events = stripe.Event.list(type='customer.updated')\n",
    "    for event in events.auto_paging_iter():\n",
    "        i+=1\n",
    "        if event['object']=='event':\n",
    "            event_json = json.loads(json.dumps(event))\n",
    "            event_data={}\n",
    "            event_data['stripe_event_id']=event_json['id']\n",
    "            event_data['event_type']=event_json['type']\n",
    "            \n",
    "            ##--TIMESTAMP----------\n",
    "            createdate_epoch = event['created']\n",
    "            event_data['event_datetime_utc_epoch']=createdate_epoch\n",
    "            # get time in tz\n",
    "            tz_utc = pytz.timezone('UTC')\n",
    "            event_data['event_datetime_utc'] = datetime.fromtimestamp(createdate_epoch, tz_utc).strftime('%Y-%m-%d %H:%M:%S')\n",
    "            # get time in Central\n",
    "            tz = pytz.timezone('America/Chicago')\n",
    "            event_data['event_datetime'] = datetime.fromtimestamp(createdate_epoch, tz).strftime('%Y-%m-%d %H:%M:%S')\n",
    "            \n",
    "            #--CUSTOMER ID & AMOUNTS----------\n",
    "\n",
    "            field_name_list = ['customer','amount_due','amount_paid','amount_remaining','amount','amount_captured','amount_refunded']            \n",
    "            event_data = tryExceptAllFields(event_data, field_name_list)\n",
    "           \n",
    "            events_list.append(event_data)\n",
    "        \n",
    "    return events_list"
   ]
  },
  {
   "cell_type": "code",
   "execution_count": null,
   "metadata": {},
   "outputs": [],
   "source": [
    "[x for x in events_list if x['stripe_event_id'] in ans]"
   ]
  },
  {
   "cell_type": "code",
   "execution_count": 43,
   "metadata": {},
   "outputs": [],
   "source": [
    "invoice_events = [d for d in events_list if 'invoice.payment_succeeded' in d['event_type']]"
   ]
  },
  {
   "cell_type": "code",
   "execution_count": 56,
   "metadata": {},
   "outputs": [],
   "source": [
    "events = stripe.Event.list(type='charge.succeeded')"
   ]
  },
  {
   "cell_type": "code",
   "execution_count": 97,
   "metadata": {},
   "outputs": [],
   "source": [
    "#can do this with numpy.setdiff1d but I don't trust cPanel with numpy\n",
    "def setdiff_sorted(array1,array2,assume_unique=False):\n",
    "    ans = np.setdiff1d(array1,array2,assume_unique).tolist()\n",
    "    if assume_unique:\n",
    "        return sorted(ans)\n",
    "    return ans\n",
    "\n",
    "main_list = setdiff_sorted(list_b,list_a)"
   ]
  },
  {
   "cell_type": "code",
   "execution_count": 98,
   "metadata": {},
   "outputs": [
    {
     "data": {
      "text/plain": [
       "['f', 'g', 'h']"
      ]
     },
     "execution_count": 98,
     "metadata": {},
     "output_type": "execute_result"
    }
   ],
   "source": [
    "main_list"
   ]
  },
  {
   "cell_type": "code",
   "execution_count": 140,
   "metadata": {},
   "outputs": [],
   "source": [
    " \n",
    "'''Use this to update MySQL table with all Stripe events'''    \n",
    "def tryExcept(event,field_name):\n",
    "    '''\n",
    "    returns a value for a field in a Stripe event, or None if not available\n",
    "    '''\n",
    "    try:\n",
    "        value = event['data']['object'][field_name]\n",
    "    except KeyError:\n",
    "        value = None\n",
    "    \n",
    "    return value\n",
    "\n",
    "def fillStripeEventData(event, target_dict, field_name_list):\n",
    "    '''\n",
    "    populates event data (using try/except logic) for all fields\n",
    "    '''\n",
    "    field_values = {}\n",
    "    for name in field_name_list:\n",
    "        target_dict[name] = tryExcept(event,name)\n",
    "    return target_dict\n",
    "\n",
    "def tryExcept(event,field_name\n",
    "    \n",
    "    if 'cus' in event['data']['object']['id']:\n",
    "        try:\n",
    "            value = event['data']['object']['id'] #this is where customer_id lives for \"customer\" event types\n",
    "        except KeyError:\n",
    "            value = None  \n",
    "    else:\n",
    "        try:\n",
    "            value = event['data']['object'][field_name]\n",
    "        except KeyError:\n",
    "            value = None\n",
    "    \n",
    "    return value"
   ]
  },
  {
   "cell_type": "code",
   "execution_count": 141,
   "metadata": {},
   "outputs": [
    {
     "name": "stdout",
     "output_type": "stream",
     "text": [
      "cus_IkR19D09w3YKcQ\n",
      "cus_IlIgXV7d7LPkgX\n",
      "cus_IlIgXV7d7LPkgX\n",
      "cus_IkR19D09w3YKcQ\n",
      "cus_IkR19D09w3YKcQ\n",
      "cus_IjvViROhk7zi67\n",
      "cus_IjvViROhk7zi67\n",
      "cus_IdubrPcAfY6mmM\n",
      "cus_IdubrPcAfY6mmM\n",
      "cus_IbVq5lZRc7ElGJ\n",
      "cus_IbVq5lZRc7ElGJ\n"
     ]
    }
   ],
   "source": [
    "for event in events.auto_paging_iter():\n",
    "    i+=1\n",
    "    if event['object']=='event':\n",
    "        #print(event['data']['object'])\n",
    "        print(tryExcept(event,'customer'))"
   ]
  },
  {
   "cell_type": "code",
   "execution_count": 125,
   "metadata": {},
   "outputs": [],
   "source": [
    "    events_list = []\n",
    "    all_stripe_event_ids = []\n",
    "    i=0\n",
    "    \n",
    "    #cPanel hosting is janky\n",
    "    stripe.max_network_retries = 10\n",
    "    \n",
    "    events = stripe.Event.list(type='customer.updated')\n",
    "    for event in events.auto_paging_iter():\n",
    "        i+=1\n",
    "        if event['object']=='event':\n",
    "            \n",
    "            event_json = json.loads(json.dumps(event))\n",
    "            \n",
    "            all_stripe_event_ids.append(event_json['id'])\n",
    "            event_data={}\n",
    "            event_data['stripe_event_id']=event_json['id']\n",
    "            event_data['event_type']=event_json['type']\n",
    "            \n",
    "            ##--TIMESTAMP----------\n",
    "            createdate_epoch = event['created']\n",
    "            event_data['event_datetime_utc_epoch']=createdate_epoch\n",
    "            # get time in tz\n",
    "            tz_utc = pytz.timezone('UTC')\n",
    "            event_data['event_datetime_utc'] = datetime.fromtimestamp(createdate_epoch, tz_utc).strftime('%Y-%m-%d %H:%M:%S')\n",
    "            # get time in Central\n",
    "            tz = pytz.timezone('America/Chicago')\n",
    "            event_data['event_datetime'] = datetime.fromtimestamp(createdate_epoch, tz).strftime('%Y-%m-%d %H:%M:%S')\n",
    "            \n",
    "           #--CUSTOMER ID & AMOUNTS----------\n",
    "\n",
    "            field_name_list = ['customer','amount_due','amount_paid','amount_remaining','amount','amount_captured','amount_refunded']            \n",
    "            event_data = fillStripeEventData(event, event_data, field_name_list)\n",
    "                \n",
    "            events_list.append(event_data)\n",
    "    \n",
    "    #filter out any that are already in the database\n",
    "    existing_event_ids = []\n",
    "    \n",
    "    event_ids_to_push_to_db = [event_id for event_id in all_stripe_event_ids if event_id not in existing_event_ids]\n",
    "\n",
    "    event_info_to_push_to_db = [event for event in events_list if event['stripe_event_id'] in event_ids_to_push_to_db]\n",
    "    \n",
    "    return event_info_to_push_to_db"
   ]
  },
  {
   "cell_type": "code",
   "execution_count": 126,
   "metadata": {},
   "outputs": [
    {
     "data": {
      "text/plain": [
       "[{'stripe_event_id': 'evt_1IAiClGun3mcXhIzQ3TXXiRW',\n",
       "  'event_type': 'customer.updated',\n",
       "  'event_datetime_utc_epoch': 1610916635,\n",
       "  'event_datetime_utc': '2021-01-17 20:50:35',\n",
       "  'event_datetime': '2021-01-17 14:50:35',\n",
       "  'customer': None,\n",
       "  'amount_due': None,\n",
       "  'amount_paid': None,\n",
       "  'amount_remaining': None,\n",
       "  'amount': None,\n",
       "  'amount_captured': None,\n",
       "  'amount_refunded': None},\n",
       " {'stripe_event_id': 'evt_1IAKFQGun3mcXhIzojIl9E8G',\n",
       "  'event_type': 'customer.updated',\n",
       "  'event_datetime_utc_epoch': 1610824543,\n",
       "  'event_datetime_utc': '2021-01-16 19:15:43',\n",
       "  'event_datetime': '2021-01-16 13:15:43',\n",
       "  'customer': None,\n",
       "  'amount_due': None,\n",
       "  'amount_paid': None,\n",
       "  'amount_remaining': None,\n",
       "  'amount': None,\n",
       "  'amount_captured': None,\n",
       "  'amount_refunded': None},\n",
       " {'stripe_event_id': 'evt_1IAKDlGun3mcXhIzyz76eADU',\n",
       "  'event_type': 'customer.updated',\n",
       "  'event_datetime_utc_epoch': 1610824440,\n",
       "  'event_datetime_utc': '2021-01-16 19:14:00',\n",
       "  'event_datetime': '2021-01-16 13:14:00',\n",
       "  'customer': None,\n",
       "  'amount_due': None,\n",
       "  'amount_paid': None,\n",
       "  'amount_remaining': None,\n",
       "  'amount': None,\n",
       "  'amount_captured': None,\n",
       "  'amount_refunded': None},\n",
       " {'stripe_event_id': 'evt_1I9DtIGun3mcXhIzjqC4QuDJ',\n",
       "  'event_type': 'customer.updated',\n",
       "  'event_datetime_utc_epoch': 1610561780,\n",
       "  'event_datetime_utc': '2021-01-13 18:16:20',\n",
       "  'event_datetime': '2021-01-13 12:16:20',\n",
       "  'customer': None,\n",
       "  'amount_due': None,\n",
       "  'amount_paid': None,\n",
       "  'amount_remaining': None,\n",
       "  'amount': None,\n",
       "  'amount_captured': None,\n",
       "  'amount_refunded': None},\n",
       " {'stripe_event_id': 'evt_1I9DrzGun3mcXhIzfnS4hNkh',\n",
       "  'event_type': 'customer.updated',\n",
       "  'event_datetime_utc_epoch': 1610561699,\n",
       "  'event_datetime_utc': '2021-01-13 18:14:59',\n",
       "  'event_datetime': '2021-01-13 12:14:59',\n",
       "  'customer': None,\n",
       "  'amount_due': None,\n",
       "  'amount_paid': None,\n",
       "  'amount_remaining': None,\n",
       "  'amount': None,\n",
       "  'amount_captured': None,\n",
       "  'amount_refunded': None},\n",
       " {'stripe_event_id': 'evt_1I8RfvGun3mcXhIzA2nPKzDM',\n",
       "  'event_type': 'customer.updated',\n",
       "  'event_datetime_utc_epoch': 1610376439,\n",
       "  'event_datetime_utc': '2021-01-11 14:47:19',\n",
       "  'event_datetime': '2021-01-11 08:47:19',\n",
       "  'customer': None,\n",
       "  'amount_due': None,\n",
       "  'amount_paid': None,\n",
       "  'amount_remaining': None,\n",
       "  'amount': None,\n",
       "  'amount_captured': None,\n",
       "  'amount_refunded': None},\n",
       " {'stripe_event_id': 'evt_1I8Re8Gun3mcXhIzyoCckJJY',\n",
       "  'event_type': 'customer.updated',\n",
       "  'event_datetime_utc_epoch': 1610376328,\n",
       "  'event_datetime_utc': '2021-01-11 14:45:28',\n",
       "  'event_datetime': '2021-01-11 08:45:28',\n",
       "  'customer': None,\n",
       "  'amount_due': None,\n",
       "  'amount_paid': None,\n",
       "  'amount_remaining': None,\n",
       "  'amount': None,\n",
       "  'amount_captured': None,\n",
       "  'amount_refunded': None},\n",
       " {'stripe_event_id': 'evt_1I2lkbGun3mcXhIzhbvFFuYa',\n",
       "  'event_type': 'customer.updated',\n",
       "  'event_datetime_utc_epoch': 1609023641,\n",
       "  'event_datetime_utc': '2020-12-26 23:00:41',\n",
       "  'event_datetime': '2020-12-26 17:00:41',\n",
       "  'customer': None,\n",
       "  'amount_due': None,\n",
       "  'amount_paid': None,\n",
       "  'amount_remaining': None,\n",
       "  'amount': None,\n",
       "  'amount_captured': None,\n",
       "  'amount_refunded': None},\n",
       " {'stripe_event_id': 'evt_1I2ljaGun3mcXhIzaAet6oez',\n",
       "  'event_type': 'customer.updated',\n",
       "  'event_datetime_utc_epoch': 1609023578,\n",
       "  'event_datetime_utc': '2020-12-26 22:59:38',\n",
       "  'event_datetime': '2020-12-26 16:59:38',\n",
       "  'customer': None,\n",
       "  'amount_due': None,\n",
       "  'amount_paid': None,\n",
       "  'amount_remaining': None,\n",
       "  'amount': None,\n",
       "  'amount_captured': None,\n",
       "  'amount_refunded': None},\n",
       " {'stripe_event_id': 'evt_1I0XgzGun3mcXhIzZIc0FitH',\n",
       "  'event_type': 'customer.updated',\n",
       "  'event_datetime_utc_epoch': 1608492945,\n",
       "  'event_datetime_utc': '2020-12-20 19:35:45',\n",
       "  'event_datetime': '2020-12-20 13:35:45',\n",
       "  'customer': None,\n",
       "  'amount_due': None,\n",
       "  'amount_paid': None,\n",
       "  'amount_remaining': None,\n",
       "  'amount': None,\n",
       "  'amount_captured': None,\n",
       "  'amount_refunded': None},\n",
       " {'stripe_event_id': 'evt_1I0XduGun3mcXhIz3hsbVlKV',\n",
       "  'event_type': 'customer.updated',\n",
       "  'event_datetime_utc_epoch': 1608492754,\n",
       "  'event_datetime_utc': '2020-12-20 19:32:34',\n",
       "  'event_datetime': '2020-12-20 13:32:34',\n",
       "  'customer': None,\n",
       "  'amount_due': None,\n",
       "  'amount_paid': None,\n",
       "  'amount_remaining': None,\n",
       "  'amount': None,\n",
       "  'amount_captured': None,\n",
       "  'amount_refunded': None}]"
      ]
     },
     "execution_count": 126,
     "metadata": {},
     "output_type": "execute_result"
    }
   ],
   "source": [
    "getNewStripeEvents()"
   ]
  },
  {
   "cell_type": "code",
   "execution_count": null,
   "metadata": {},
   "outputs": [],
   "source": []
  }
 ],
 "metadata": {
  "kernelspec": {
   "display_name": "Python 3",
   "language": "python",
   "name": "python3"
  },
  "language_info": {
   "codemirror_mode": {
    "name": "ipython",
    "version": 3
   },
   "file_extension": ".py",
   "mimetype": "text/x-python",
   "name": "python",
   "nbconvert_exporter": "python",
   "pygments_lexer": "ipython3",
   "version": "3.8.6"
  }
 },
 "nbformat": 4,
 "nbformat_minor": 4
}
